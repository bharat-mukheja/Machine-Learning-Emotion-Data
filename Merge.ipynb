{
 "cells": [
  {
   "cell_type": "code",
   "execution_count": 4,
   "metadata": {},
   "outputs": [],
   "source": [
    "import pandas as pd\n",
    "import numpy as np"
   ]
  },
  {
   "cell_type": "code",
   "execution_count": 71,
   "metadata": {},
   "outputs": [],
   "source": [
    "log_folder = '../MetaTutor Data/Log Files/Day 2/'\n",
    "log_files = ['MT430PN56164.log','MT430PN56165.log','MT430PN56166.log','MT430PN56167.log','MT430PN56168.log']\n",
    "logfile_cols = [\"Line\",\"Time\",\"Time(ms)\",\"Layout\",\"Agent\",\"Action\",\"Detail\",\"Phonetic Correction\"]\n",
    "facet_folder = '../MetaTutor Data/FACET Files (NCSU Only)/'\n",
    "facet_files = ['164_FACET.txt','165_FACET.txt','166_FACET.txt','167_FACET.txt','168_FACET.txt']\n",
    "dates = ['2015-02-04','2015-02-06','2015-02-06']"
   ]
  },
  {
   "cell_type": "code",
   "execution_count": 6,
   "metadata": {},
   "outputs": [],
   "source": [
    "def get_log_file_offset(filename,match_string):\n",
    "    #Read till you get 'Day 2', present in every log file\n",
    "    f = open(filename,'r')\n",
    "    count=0\n",
    "    for line in f.readlines():\n",
    "        count+=1\n",
    "        if line.startswith(match_string):\n",
    "            break\n",
    "    f.close()\n",
    "    return count"
   ]
  },
  {
   "cell_type": "code",
   "execution_count": 73,
   "metadata": {},
   "outputs": [
    {
     "name": "stderr",
     "output_type": "stream",
     "text": [
      "/home/bkmukhej/anaconda3/lib/python3.6/site-packages/IPython/core/interactiveshell.py:2728: DtypeWarning: Columns (5) have mixed types. Specify dtype option on import or set low_memory=False.\n",
      "  interactivity=interactivity, compiler=compiler, result=result)\n"
     ]
    },
    {
     "name": "stdout",
     "output_type": "stream",
     "text": [
      "           StudyName  ExportDate               Name  Age  Gender  \\\n",
      "0  MT430PN56164_DAY2    20150206  MT430PN56164_DAY2   20  FEMALE   \n",
      "1  MT430PN56164_DAY2    20150206  MT430PN56164_DAY2   20  FEMALE   \n",
      "2  MT430PN56164_DAY2    20150206  MT430PN56164_DAY2   20  FEMALE   \n",
      "3  MT430PN56164_DAY2    20150206  MT430PN56164_DAY2   20  FEMALE   \n",
      "4  MT430PN56164_DAY2    20150206  MT430PN56164_DAY2   20  FEMALE   \n",
      "\n",
      "        StimulusName  SlideType     EventSource      Timestamp AgentAction  \\\n",
      "0  Emotient_Baseline  TestImage  Emotient FACET  1423050113148               \n",
      "1  Emotient_Baseline  TestImage  Emotient FACET  1423050113507               \n",
      "2  Emotient_Baseline  TestImage  Emotient FACET  1423050114107               \n",
      "3  Emotient_Baseline  TestImage  Emotient FACET  1423050114111               \n",
      "4  Emotient_Baseline  TestImage  Emotient FACET  1423050114213               \n",
      "\n",
      "      ...     RIGHT_EYE_MEDIAL Y  RIGHT_EYE_PUPIL X  RIGHT_EYE_PUPIL Y  \\\n",
      "0     ...               187.4306           322.3363           187.7792   \n",
      "1     ...               187.0614           322.6771           186.7172   \n",
      "2     ...               187.6148           321.9025           187.7366   \n",
      "3     ...               186.8495           322.8433           186.4361   \n",
      "4     ...                    NaN                NaN                NaN   \n",
      "\n",
      "   RIGHT_EYE_LATERAL X  RIGHT_EYE_LATERAL Y  NOSE_TIP X  NOSE_TIP Y  \\\n",
      "0             343.4303             188.2750    277.6389    233.4232   \n",
      "1             343.1914             187.5230    279.1686    233.1206   \n",
      "2             343.4475             188.4239    278.4001    233.4976   \n",
      "3             343.3334             187.4559    278.6552    233.3093   \n",
      "4                  NaN                  NaN         NaN         NaN   \n",
      "\n",
      "   LiveMarker  KeyStroke  MarkerText  \n",
      "0         NaN        NaN         NaN  \n",
      "1         NaN        NaN         NaN  \n",
      "2         NaN        NaN         NaN  \n",
      "3         NaN        NaN         NaN  \n",
      "4         NaN        NaN         NaN  \n",
      "\n",
      "[5 rows x 84 columns]\n",
      "Index(['StudyName', 'ExportDate', 'Name', 'Age', 'Gender', 'StimulusName',\n",
      "       'SlideType', 'EventSource', 'Timestamp', 'AgentAction', 'ActionDetail',\n",
      "       'MediaTime', 'PostMarker', 'Annotation', 'FrameNo', 'FrameTime',\n",
      "       'NoOfFaces', 'FaceRect X', 'FaceRect Y', 'FaceRect Width',\n",
      "       'FaceRect Height', 'Joy Evidence', 'Joy Intensity', 'Anger Evidence',\n",
      "       'Anger Intensity', 'Surprise Evidence', 'Surprise Intensity',\n",
      "       'Fear Evidence', 'Fear Intensity', 'Contempt Evidence',\n",
      "       'Contempt Intensity', 'Disgust Evidence', 'Disgust Intensity',\n",
      "       'Sadness Evidence', 'Sadness Intensity', 'Confusion Evidence',\n",
      "       'Confusion Intensity', 'Frustration Evidence', 'Frustration Intensity',\n",
      "       'Neutral Evidence', 'Neutral Intensity', 'Positive Evidence',\n",
      "       'Positive Intensity', 'Negative Evidence', 'Negative Intensity',\n",
      "       'AU1 Evidence', 'AU2 Evidence', 'AU4 Evidence', 'AU5 Evidence',\n",
      "       'AU6 Evidence', 'AU7 Evidence', 'AU9 Evidence', 'AU10 Evidence',\n",
      "       'AU12 Evidence', 'AU14 Evidence', 'AU15 Evidence', 'AU17 Evidence',\n",
      "       'AU18 Evidence', 'AU20 Evidence', 'AU23 Evidence', 'AU24 Evidence',\n",
      "       'AU25 Evidence', 'AU26 Evidence', 'AU28 Evidence', 'Yaw Degrees',\n",
      "       'Pitch Degrees', 'Roll Degrees', 'LEFT_EYE_LATERAL X',\n",
      "       'LEFT_EYE_LATERAL Y', 'LEFT_EYE_PUPIL X', 'LEFT_EYE_PUPIL Y',\n",
      "       'LEFT_EYE_MEDIAL X', 'LEFT_EYE_MEDIAL Y', 'RIGHT_EYE_MEDIAL X',\n",
      "       'RIGHT_EYE_MEDIAL Y', 'RIGHT_EYE_PUPIL X', 'RIGHT_EYE_PUPIL Y',\n",
      "       'RIGHT_EYE_LATERAL X', 'RIGHT_EYE_LATERAL Y', 'NOSE_TIP X',\n",
      "       'NOSE_TIP Y', 'LiveMarker', 'KeyStroke', 'MarkerText'],\n",
      "      dtype='object')\n"
     ]
    }
   ],
   "source": [
    "for i in range(0,1):\n",
    "    log_file = log_files[i]\n",
    "    facet_file=facet_files[i]\n",
    "    curfile = log_folder+log_file\n",
    "    log_data = pd.read_csv(curfile,sep='\\t',skiprows=get_log_file_offset(curfile,'Day'),names = logfile_cols)\n",
    "    log_data['Time Elapsed(ms)'] = log_data['Time(ms)'].copy()\n",
    "    log_data['Time(ms)'] = log_data['Time(ms)'].apply(lambda x: x%1000)\n",
    "    log_data['Timestamp'] = (pd.to_datetime(dates[i]+' '+log_data['Time'],format='%Y-%m-%d %H:%M:%S').astype(np.int64)//10**6)+(log_data['Time(ms)'])\n",
    "    log_events = log_data[log_data.Detail.isin(['Start','Stop'])]\n",
    "    facet = pd.read_csv(facet_folder+facet_file,sep='\\t',skiprows=get_log_file_offset(facet_folder+facet_file,'StudyName')-1)\n",
    "    facet_agent_action_column = np.full(facet.shape[0],'',dtype=object)\n",
    "    facet_action_detail_column = np.full(facet.shape[0],'',dtype=object)\n",
    "    facet['Timestamp'] = pd.to_datetime(facet.Timestamp,format='%Y%m%d_%H%M%S%f').astype(np.int64)//10**6\n",
    "    log_events2 = log_events.reset_index()\n",
    "    log_iterator = 0\n",
    "    facet_iterator = 0\n",
    "    log_column = list(log_events2.columns).index('Action')\n",
    "    \n",
    "    while facet_iterator<facet.shape[0]:\n",
    "        if log_iterator>=log_events2.shape[0]:\n",
    "            print(\"Log Events End Reached\")\n",
    "        else:\n",
    "            if facet.Timestamp[facet_iterator]<log_events2.Timestamp[log_iterator]:\n",
    "                facet_iterator+=1\n",
    "                continue\n",
    "            elif facet.Timestamp[facet_iterator]>=log_events2.Timestamp[log_iterator]:\n",
    "                facet_action_detail_column[facet_iterator] = log_events2.iloc[log_iterator,log_column+1] \n",
    "                log_iterator+=1\n",
    "                while facet_iterator<facet.shape[0] and facet.Timestamp[facet_iterator]<log_events2.Timestamp[log_iterator]:\n",
    "                    facet_agent_action_column[facet_iterator] = log_events2.iloc[log_iterator,log_column] \n",
    "                    facet_iterator+=1\n",
    "                if facet_iterator<facet.shape[0]:\n",
    "                    facet_action_detail_column[facet_iterator] = log_events2.iloc[log_iterator,log_column+1] \n",
    "                log_iterator+=1\n",
    "            else:\n",
    "                facet_iterator+=1\n",
    "    #print(facet_agent_action_column)\n",
    "    facet['AgentAction'] = pd.Series(facet_agent_action_column,dtype=object)\n",
    "    facet['ActionDetail'] = pd.Series(facet_action_detail_column,dtype=object)\n",
    "    columns = list(facet.columns)\n",
    "    columns = columns[:9]+columns[-2:]+columns[9:-2]\n",
    "    facet = facet[columns]\n",
    "    print(facet.head())\n",
    "    print(facet.columns)\n",
    "    facet.to_csv(facet_file+'.csv')\n",
    "   "
   ]
  },
  {
   "cell_type": "code",
   "execution_count": 69,
   "metadata": {},
   "outputs": [
    {
     "data": {
      "text/plain": [
       "278855    \n",
       "278856    \n",
       "278857    \n",
       "278858    \n",
       "278859    \n",
       "Name: ActionDetail, dtype: object"
      ]
     },
     "execution_count": 69,
     "metadata": {},
     "output_type": "execute_result"
    }
   ],
   "source": [
    "facet.ActionDetail.tail()"
   ]
  },
  {
   "cell_type": "code",
   "execution_count": null,
   "metadata": {},
   "outputs": [],
   "source": [
    "'''The task is to get the exact time stamp from a combination of 'Time in seconds' and 'Time elapsed since start in ms'. \n",
    "For now, for the sake of simplicity, it is easy to just extract the ms from the data. The time processing can be done later on.'''"
   ]
  }
 ],
 "metadata": {
  "kernelspec": {
   "display_name": "Python 3",
   "language": "python",
   "name": "python3"
  },
  "language_info": {
   "codemirror_mode": {
    "name": "ipython",
    "version": 3
   },
   "file_extension": ".py",
   "mimetype": "text/x-python",
   "name": "python",
   "nbconvert_exporter": "python",
   "pygments_lexer": "ipython3",
   "version": "3.6.4"
  }
 },
 "nbformat": 4,
 "nbformat_minor": 2
}
